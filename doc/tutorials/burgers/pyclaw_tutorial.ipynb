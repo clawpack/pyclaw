{
 "metadata": {
  "name": "pyclaw_tutorial"
 },
 "nbformat": 3,
 "nbformat_minor": 0,
 "worksheets": [
  {
   "cells": [
    {
     "cell_type": "markdown",
     "metadata": {},
     "source": [
      "# PyClaw Tutorial\n",
      "<a rel=\"license\" href=\"http://creativecommons.org/licenses/by/3.0/deed.en_US\"><img alt=\"Creative Commons License\" style=\"border-width:0\" src=\"http://i.creativecommons.org/l/by/3.0/88x31.png\" /></a><br /><span xmlns:dct=\"http://purl.org/dc/terms/\" property=\"dct:title\">PyClaw Tutorial</span> by <a xmlns:cc=\"http://creativecommons.org/ns#\" href=\"http://numerics.kaust.edu.sa\" property=\"cc:attributionName\" rel=\"cc:attributionURL\">Aron Ahmadia</a> is licensed under a <a rel=\"license\" href=\"http://creativecommons.org/licenses/by/3.0/deed.en_US\">Creative Commons Attribution 3.0 Unported License</a>."
     ]
    },
    {
     "cell_type": "markdown",
     "metadata": {},
     "source": [
      "## Import numpy, matplotlib, and clawpack packages"
     ]
    },
    {
     "cell_type": "code",
     "collapsed": true,
     "input": [
      "import numpy as np\n",
      "import matplotlib as mpl\n",
      "import matplotlib.pyplot as plt\n",
      "from clawpack import riemann\n",
      "from clawpack import pyclaw"
     ],
     "language": "python",
     "metadata": {},
     "outputs": []
    },
    {
     "cell_type": "markdown",
     "metadata": {},
     "source": [
      "## Instantiate solver"
     ]
    },
    {
     "cell_type": "code",
     "collapsed": true,
     "input": [
      "solver = pyclaw.ClawSolver1D()\n",
      "solver.kernel_language = 'Fortran'"
     ],
     "language": "python",
     "metadata": {},
     "outputs": []
    },
    {
     "cell_type": "markdown",
     "metadata": {},
     "source": [
      "## Choose a limiter"
     ]
    },
    {
     "cell_type": "code",
     "collapsed": true,
     "input": [
      "solver.limiters = pyclaw.limiters.tvd.vanleer"
     ],
     "language": "python",
     "metadata": {},
     "outputs": []
    },
    {
     "cell_type": "markdown",
     "metadata": {},
     "source": [
      "## Choose appropriate Riemann solver"
     ]
    },
    {
     "cell_type": "code",
     "collapsed": false,
     "input": [
      "solver.rp = riemann.rp1_burgers\n",
      "solver.num_waves = 1"
     ],
     "language": "python",
     "metadata": {},
     "outputs": []
    },
    {
     "cell_type": "markdown",
     "metadata": {},
     "source": [
      "## Set boundary conditions"
     ]
    },
    {
     "cell_type": "code",
     "collapsed": true,
     "input": [
      "solver.bc_lower[0] = pyclaw.BC.periodic\n",
      "solver.bc_upper[0] = pyclaw.BC.periodic"
     ],
     "language": "python",
     "metadata": {},
     "outputs": []
    },
    {
     "cell_type": "markdown",
     "metadata": {},
     "source": [
      "## Set up problem Domain (Cartesian discretization of space)"
     ]
    },
    {
     "cell_type": "code",
     "collapsed": true,
     "input": [
      "x = pyclaw.Dimension('x',0.0,1.0,500)\n",
      "domain = pyclaw.Domain(x)"
     ],
     "language": "python",
     "metadata": {},
     "outputs": []
    },
    {
     "cell_type": "markdown",
     "metadata": {},
     "source": [
      "## Set up a State (Representation of problem state at a specific time)"
     ]
    },
    {
     "cell_type": "code",
     "collapsed": false,
     "input": [
      "num_eqn = 1\n",
      "state = pyclaw.State(domain,num_eqn)"
     ],
     "language": "python",
     "metadata": {},
     "outputs": []
    },
    {
     "cell_type": "code",
     "collapsed": true,
     "input": [
      "grid = state.grid\n",
      "xc = grid.x.centers"
     ],
     "language": "python",
     "metadata": {},
     "outputs": []
    },
    {
     "cell_type": "code",
     "collapsed": false,
     "input": [
      "plt.plot(xc,marker='.',linestyle='None',markersize=0.5)"
     ],
     "language": "python",
     "metadata": {},
     "outputs": []
    },
    {
     "cell_type": "code",
     "collapsed": false,
     "input": [
      "# state.q[0,:] = np.sin(np.pi*2*xc) + 0.50\n",
      "state.q[0,:] = np.piecewise(xc, \n",
      "                            [xc < 0.2, \n",
      "                             np.logical_and(0.2 <= xc,xc < 0.5), \n",
      "                             0.5 <= xc], \n",
      "                            [lambda x: 0.2, lambda x: x, lambda x: 0.5])\n",
      "plt.plot(xc,state.q[0,:],marker='.',linestyle='None',markersize=0.5)\n",
      "axis([0, 1.0, 0, 1.0])"
     ],
     "language": "python",
     "metadata": {},
     "outputs": []
    },
    {
     "cell_type": "code",
     "collapsed": false,
     "input": [
      "state.problem_data['efix']=True"
     ],
     "language": "python",
     "metadata": {},
     "outputs": []
    },
    {
     "cell_type": "code",
     "collapsed": false,
     "input": [
      "claw = pyclaw.Controller()\n",
      "claw.tfinal = 3.0\n",
      "claw.solution = pyclaw.Solution(state,domain)\n",
      "claw.solver = solver\n",
      "claw.keep_copy = True\n",
      "claw.output_format = None"
     ],
     "language": "python",
     "metadata": {},
     "outputs": []
    },
    {
     "cell_type": "code",
     "collapsed": false,
     "input": [
      "status = claw.run()"
     ],
     "language": "python",
     "metadata": {},
     "outputs": []
    },
    {
     "cell_type": "code",
     "collapsed": false,
     "input": [
      "# poor man's movie!\n",
      "import time, sys\n",
      "from IPython.display import clear_output\n",
      "f, ax = plt.subplots()\n",
      "\n",
      "for i in range(len(claw.frames)):\n",
      "    q = claw.frames[i].state.q\n",
      "    ax.plot(xc,q[0,:],marker='.',linestyle='None',markersize=0.5)\n",
      "    axis([0, 1.0, 0, 1.0])    \n",
      "    time.sleep(0.5)\n",
      "    clear_output()\n",
      "    display(f)\n",
      "    ax.cla()\n",
      "plt.close()"
     ],
     "language": "python",
     "metadata": {},
     "outputs": []
    },
    {
     "cell_type": "code",
     "collapsed": false,
     "input": [],
     "language": "python",
     "metadata": {},
     "outputs": []
    },
    {
     "cell_type": "code",
     "collapsed": false,
     "input": [],
     "language": "python",
     "metadata": {},
     "outputs": []
    }
   ],
   "metadata": {}
  }
 ]
}
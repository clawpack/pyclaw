{
 "cells": [
  {
   "cell_type": "markdown",
   "metadata": {},
   "source": [
    "# Demonstration of different limiters for advection\n",
    "This notebook shows the effect of limiters on advection for various initial conditions.  It includes the results for first and second order methods from Figures 6.1-6.3 of [Finite Volume Methods for Hyperbolic Problems](http://depts.washington.edu/clawpack/book.html), as well as results for WENO methods."
   ]
  },
  {
   "cell_type": "code",
   "execution_count": null,
   "metadata": {},
   "outputs": [],
   "source": [
    "%matplotlib inline\n",
    "import numpy as np\n",
    "from clawpack import pyclaw\n",
    "from clawpack import riemann\n",
    "import matplotlib\n",
    "import matplotlib.pyplot as plt\n",
    "from matplotlib import animation\n",
    "from clawpack.visclaw.JSAnimation import IPython_display"
   ]
  },
  {
   "cell_type": "markdown",
   "metadata": {},
   "source": [
    "The function below sets up an advection simulation with the specified scheme, on the unit interval with periodic boundary conditions.  Since output is written at integer times, the solution at each output time has been advected precisely back to its original location.  Plotting each frame shows us how the solution is modified by numerical effects as it moves once through the domain."
   ]
  },
  {
   "cell_type": "code",
   "execution_count": null,
   "metadata": {},
   "outputs": [],
   "source": [
    "def setup(scheme='minmod',cfl_max=0.9,IC='gauss_square',mx=100):\n",
    "    if 'weno' in scheme:\n",
    "        solver = pyclaw.SharpClawSolver1D(riemann.advection_1D)\n",
    "    else:\n",
    "        solver = pyclaw.ClawSolver1D(riemann.advection_1D)\n",
    "\n",
    "    solver.bc_lower[0] = pyclaw.BC.periodic\n",
    "    solver.bc_upper[0] = pyclaw.BC.periodic\n",
    "    \n",
    "    if scheme in ('minmod','superbee','MC','vanleer'):\n",
    "        solver.limiters = getattr(pyclaw.limiters.tvd,scheme)\n",
    "    #elif scheme == 'CT':\n",
    "        #solver.limiters = pyclaw.limiters.tvd.cada_torrilhon_limiter\n",
    "    elif scheme == 'Lax-Wendroff':\n",
    "        solver.limiters = 0\n",
    "    elif scheme == 'first-order':\n",
    "        solver.order = 1\n",
    "    elif 'weno' in scheme:\n",
    "        solver.reconstruction_order = int(scheme[4:]) #weno5, weno7, ...\n",
    "    else:\n",
    "        raise Exception('Unrecognized limiter')\n",
    "\n",
    "    solver.cfl_max = cfl_max\n",
    "    solver.cfl_desired = cfl_max*0.9\n",
    "\n",
    "    x = pyclaw.Dimension(0.0,1.0,mx,name='x')\n",
    "    domain = pyclaw.Domain(x)\n",
    "    num_eqn = 1\n",
    "    state = pyclaw.State(domain,num_eqn)\n",
    "    state.problem_data['u']=1.\n",
    "\n",
    "    grid = state.grid\n",
    "    xc = grid.x.centers\n",
    "    if IC=='gauss_square':\n",
    "        beta=200.; x0=0.3\n",
    "        state.q[0,:] = np.exp(-beta * (xc-x0)**2) + (xc>0.6)*(xc<0.8)\n",
    "    elif IC=='wavepacket':\n",
    "        beta=100.; x0=0.5\n",
    "        state.q[0,:] = np.exp(-beta * (xc-x0)**2) * np.sin(80.*xc)\n",
    "    else:\n",
    "        raise Exception('Unrecognized initial condition.')\n",
    "\n",
    "    claw = pyclaw.Controller()\n",
    "    claw.solution = pyclaw.Solution(state,domain)\n",
    "    claw.solver = solver\n",
    "    claw.keep_copy = True\n",
    "    claw.output_format = None\n",
    "\n",
    "    claw.tfinal =10.0\n",
    "    return claw"
   ]
  },
  {
   "cell_type": "markdown",
   "metadata": {},
   "source": [
    "### Gaussian and square wave"
   ]
  },
  {
   "cell_type": "code",
   "execution_count": null,
   "metadata": {},
   "outputs": [],
   "source": [
    "results = []\n",
    "schemes = ('first-order','Lax-Wendroff','minmod','superbee','MC','vanleer','weno5','weno7','weno9')\n",
    "for scheme in schemes:\n",
    "    claw = setup(scheme=scheme)\n",
    "    claw.run()\n",
    "    results.append(claw.frames)"
   ]
  },
  {
   "cell_type": "code",
   "execution_count": null,
   "metadata": {},
   "outputs": [],
   "source": [
    "def animate(results,ymin=-0.1):\n",
    "    fig = plt.figure(figsize=(10,6))\n",
    "\n",
    "    N = len(results)\n",
    "    n = int(np.ceil(np.sqrt(N)))\n",
    "    axes = []\n",
    "    gs1 = matplotlib.gridspec.GridSpec(n, n)\n",
    "    gs1.update(wspace=0.,hspace=0.)\n",
    "\n",
    "    for i in range(n):\n",
    "        for j in range(n):\n",
    "            k = n*i + j\n",
    "            if k<N:\n",
    "                axes.append(plt.subplot(gs1[i,j]));\n",
    "                if j>0:\n",
    "                    axes[-1].yaxis.set_ticklabels(())\n",
    "\n",
    "    lines = [0]*len(schemes)\n",
    "    for i in range(len(lines)):\n",
    "        lines[i], = axes[i].plot([], [], lw=2)\n",
    "\n",
    "    for i,ax in enumerate(axes):\n",
    "        ax.set_xlim(0,1); ax.set_ylim(ymin,1.3)\n",
    "        #ax.legend( [schemes[i] ] )\n",
    "        ax.set_title(schemes[i], x = 0.5, y=0.85 )\n",
    "    \n",
    "    xc = results[0][0].p_centers[0]\n",
    "\n",
    "    def fplot(frame_number):\n",
    "        for i, line in enumerate(lines):\n",
    "            line.set_data(xc,results[i][frame_number].q[0,:])\n",
    "        return lines,\n",
    "\n",
    "    return matplotlib.animation.FuncAnimation(fig, fplot, frames=len(claw.frames), interval=30)\n",
    "\n",
    "animate(results)"
   ]
  },
  {
   "cell_type": "markdown",
   "metadata": {},
   "source": [
    "The animation runs quickly, so it's helpful to step through one frame at a time.  It's easy to see the differences in dissipation and dispersion of the various schemes.  Of course, these properties also depend on the CFL number.  Try changing the CFL number in the call to `setup()` above and see how the results change."
   ]
  },
  {
   "cell_type": "markdown",
   "metadata": {},
   "source": [
    "### Wavepacket\n",
    "To see how the limiters affect intermediate frequencies, let's advect a wavepacket."
   ]
  },
  {
   "cell_type": "code",
   "execution_count": null,
   "metadata": {},
   "outputs": [],
   "source": [
    "results = []\n",
    "\n",
    "for scheme in schemes:\n",
    "    claw = setup(scheme=scheme,IC='wavepacket',mx=300)\n",
    "    claw.run()\n",
    "    results.append(claw.frames)"
   ]
  },
  {
   "cell_type": "code",
   "execution_count": null,
   "metadata": {},
   "outputs": [],
   "source": [
    "animate(results,ymin=-1.2)"
   ]
  }
 ],
 "metadata": {
  "kernelspec": {
   "display_name": "Python 3",
   "language": "python",
   "name": "python3"
  },
  "language_info": {
   "codemirror_mode": {
    "name": "ipython",
    "version": 3
   },
   "file_extension": ".py",
   "mimetype": "text/x-python",
   "name": "python",
   "nbconvert_exporter": "python",
   "pygments_lexer": "ipython3",
   "version": "3.6.5"
  },
  "toc": {
   "base_numbering": 1,
   "nav_menu": {},
   "number_sections": true,
   "sideBar": true,
   "skip_h1_title": false,
   "title_cell": "Table of Contents",
   "title_sidebar": "Contents",
   "toc_cell": false,
   "toc_position": {},
   "toc_section_display": true,
   "toc_window_display": false
  }
 },
 "nbformat": 4,
 "nbformat_minor": 1
}

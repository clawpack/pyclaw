{
 "cells": [
  {
   "cell_type": "markdown",
   "metadata": {},
   "source": [
    "# Using yt and mplot3d to visualize the 3D shock-bubble problem"
   ]
  },
  {
   "cell_type": "markdown",
   "metadata": {},
   "source": [
    "This notebook shows how to plot slices and isosurfaces of a PyClaw simulation using yt and mplot3d, with the Sedov problem as an example.  To execute the notebook, you should first run the shock-bubble example in the same directory where the notebook is located.  You also need to have [installed yt](http://yt-project.org/#getyt)."
   ]
  },
  {
   "cell_type": "markdown",
   "metadata": {},
   "source": [
    "First we'll import what we need from yt and from pyclaw.  We'll also set which frame to plot and whether we want to plot the full solution or just the quadrant in which it is computed (in the simulation, we use the symmetry of the problem to reduce the computational domain by a factor of 4)."
   ]
  },
  {
   "cell_type": "code",
   "execution_count": null,
   "metadata": {},
   "outputs": [],
   "source": [
    "import yt\n",
    "from clawpack.pyclaw import Solution\n",
    "from mpl_toolkits.mplot3d import Axes3D\n",
    "from mpl_toolkits.mplot3d.art3d import Poly3DCollection\n",
    "import numpy as np\n",
    "import matplotlib.pyplot as plt\n",
    "\n",
    "frame = 4 # Frame to plot (0-10)\n",
    "plot_all_quadrants = False  # If True, reflect data to plot all four y-z plane quadrants"
   ]
  },
  {
   "cell_type": "markdown",
   "metadata": {},
   "source": [
    "Next we load one frame of the solution from a file on disk."
   ]
  },
  {
   "cell_type": "code",
   "execution_count": null,
   "metadata": {},
   "outputs": [],
   "source": [
    "# Load solution\n",
    "sol = Solution(frame,path='./_output/',file_format='hdf');"
   ]
  },
  {
   "cell_type": "markdown",
   "metadata": {},
   "source": [
    "The next two cells reflect the data (if we want to plot all 4 quadrants) and set up the data structures yt expects."
   ]
  },
  {
   "cell_type": "code",
   "execution_count": null,
   "metadata": {},
   "outputs": [],
   "source": [
    "x,y,z = sol.grid.dimensions\n",
    "\n",
    "if plot_all_quadrants:\n",
    "    # Reflect solution in y and z\n",
    "    y_reflection = sol.q[:,:,::-1,:]\n",
    "    double = np.concatenate((y_reflection,sol.q),2)\n",
    "    z_reflection = double[:,:,:,::-1]\n",
    "    full = np.concatenate((z_reflection,double),3)\n",
    "    bbox = np.array([[x.lower,x.upper],[-y.upper,y.upper],[-z.upper,z.upper]])\n",
    "else:\n",
    "    full = sol.q\n",
    "    bbox = np.array([[x.lower,x.upper],[y.lower,y.upper],[z.lower,z.upper]])"
   ]
  },
  {
   "cell_type": "code",
   "execution_count": null,
   "metadata": {},
   "outputs": [],
   "source": [
    "# Set up field dictionary that yt expects\n",
    "data = {'Density'    : full[0,:,:,:],\n",
    "        'x-momentum' : full[1,:,:,:],\n",
    "        'y-momentum' : full[2,:,:,:],\n",
    "        'z-momentum' : full[3,:,:,:],\n",
    "        'Energy'     : full[4,:,:,:]}"
   ]
  },
  {
   "cell_type": "code",
   "execution_count": null,
   "metadata": {},
   "outputs": [],
   "source": [
    "pf = yt.load_uniform_grid(data,full[0,:,:,:].shape, 1, bbox=bbox)"
   ]
  },
  {
   "cell_type": "markdown",
   "metadata": {},
   "source": [
    "## Cut-plane"
   ]
  },
  {
   "cell_type": "markdown",
   "metadata": {},
   "source": [
    "Next, let's plot a cut-plane.  For some reason the plot's x-axis seems to be reversed.  If you are more of a yt expert and can correct this, please let me know!\n",
    "\n",
    "This is adapted from http://yt-project.org/doc/cookbook/complex_plots.html#plotting-isocontours."
   ]
  },
  {
   "cell_type": "code",
   "execution_count": null,
   "metadata": {},
   "outputs": [],
   "source": [
    "# Plot a cut plane: specify normal vector and center, in that order\n",
    "cp = pf.h.cutting([0.0, 1.0, 0.0], [0.75,0.,0.25])\n",
    "pw = cp.to_pw(fields = [\"Density\"])\n",
    "pw.show()"
   ]
  },
  {
   "cell_type": "markdown",
   "metadata": {},
   "source": [
    "## Isosurface"
   ]
  },
  {
   "cell_type": "markdown",
   "metadata": {},
   "source": [
    "Next we construct an isosurface and use mplot3d to plot it.  We'll take a density isosurface and color it based on energy."
   ]
  },
  {
   "cell_type": "code",
   "execution_count": null,
   "metadata": {},
   "outputs": [],
   "source": [
    "sphere = pf.h.sphere([0.65,0.0,0.0], 0.3) # Restrict to a sphere for visibility purposes\n",
    "surface = pf.h.surface(sphere,\"Density\",0.4)  # construct an isosurface"
   ]
  },
  {
   "cell_type": "code",
   "execution_count": null,
   "metadata": {},
   "outputs": [],
   "source": [
    "colors = yt.apply_colormap(np.log10(surface[\"Energy\"]), cmap_name=\"BLUE\")\n",
    "\n",
    "fig = plt.figure(figsize=(12,12))\n",
    "ax = fig.gca(projection='3d')\n",
    "p3dc = Poly3DCollection(surface.triangles, linewidth=0.01,alpha=0.8)\n",
    "p3dc.set_facecolors(colors[0,:,:]/255.)\n",
    "ax.add_collection(p3dc)\n",
    "max_extent = (surface.vertices.max(axis=1) - surface.vertices.min(axis=1)).max()\n",
    "centers = (surface.vertices.max(axis=1) + surface.vertices.min(axis=1)) / 2\n",
    "bounds = np.zeros([3,2])\n",
    "bounds[:,0] = centers[:] - max_extent/2\n",
    "bounds[:,1] = centers[:] + max_extent/2\n",
    "ax.auto_scale_xyz(bounds[0,:], bounds[1,:], bounds[2,:])"
   ]
  }
 ],
 "metadata": {
  "kernelspec": {
   "display_name": "Python 3",
   "language": "python",
   "name": "python3"
  },
  "language_info": {
   "codemirror_mode": {
    "name": "ipython",
    "version": 3
   },
   "file_extension": ".py",
   "mimetype": "text/x-python",
   "name": "python",
   "nbconvert_exporter": "python",
   "pygments_lexer": "ipython3",
   "version": "3.5.2"
  },
  "toc": {
   "nav_menu": {},
   "number_sections": true,
   "sideBar": true,
   "skip_h1_title": false,
   "toc_cell": false,
   "toc_position": {},
   "toc_section_display": "block",
   "toc_window_display": false
  }
 },
 "nbformat": 4,
 "nbformat_minor": 1
}
